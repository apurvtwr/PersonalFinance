{
 "cells": [
  {
   "cell_type": "code",
   "execution_count": 1,
   "id": "1b389aed-9988-4b85-b093-063a41783272",
   "metadata": {},
   "outputs": [],
   "source": [
    "import numpy as np"
   ]
  },
  {
   "cell_type": "markdown",
   "id": "6af89acb-f1e0-41b1-86cf-788a84591f9a",
   "metadata": {},
   "source": [
    "### Trailing 12 months Earnings = 153.52\n",
    "### Trailing 12 months Cashflow = 150.50\n",
    "### Expected Earnings Growth Rate = 3.96%\n",
    "### Terminal Growth Rate = 1.91%\n",
    "### Maturity year (year when growth rate will hit T bond rate) = 5"
   ]
  },
  {
   "cell_type": "code",
   "execution_count": 47,
   "id": "d778ea4a-a666-4ec7-9495-77bd333d7d93",
   "metadata": {},
   "outputs": [],
   "source": [
    "ttm_earnings = 153.52\n",
    "ttm_cashflow = 150.5\n",
    "# growth_rate = 0.0396\n",
    "growth_rate = 0.0191\n",
    "tgr = 0.0191\n",
    "maturity_year = 5\n",
    "price = 3230"
   ]
  },
  {
   "cell_type": "code",
   "execution_count": 48,
   "id": "b41c9d75-fb46-49db-869b-481fc9c327a1",
   "metadata": {},
   "outputs": [],
   "source": [
    "expected_earnings = np.array([ttm_earnings* (1+ growth_rate)**(1+i) for i in range(maturity_year)])\n",
    "expected_cashflow = np.array([ttm_cashflow * (1+ growth_rate)**(1+i) for i in range(maturity_year)])"
   ]
  },
  {
   "cell_type": "markdown",
   "id": "e4b637f7-0cc9-4d6d-8ce3-211ed59b23d5",
   "metadata": {},
   "source": [
    "\n",
    "$Price = \\dfrac{CF_1}{(1+r)} + \\dfrac{CF_2}{(1+r)^2} + \\dfrac{CF_3}{(1+r)^3} + \\dfrac{CF_4}{(1+r)^4} + \\dfrac{CF_5}{(1+r)^5} + TermValue$\n",
    "\n",
    "$TermValue = \\dfrac{CF_5}{(1+r)^5} * \\sum_{1}^{\\inf} (\\dfrac{1+tgr}{1+r})^i $\n",
    "\n",
    "$ TermValue = \\dfrac{\\dfrac{CF_5}{(1+r)^5}(1 + t)}{r - tgr} $\n",
    "\n",
    "$Price = \\dfrac{CF_1}{(1+r)} + \\dfrac{CF_2}{(1+r)^2} + \\dfrac{CF_3}{(1+r)^3} + \\dfrac{CF_4}{(1+r)^4} + \\dfrac{CF_5}{(1+r)^5} + \\dfrac{\\dfrac{CF_5}{(1+r)^5}(1 + t)}{r - tgr}$"
   ]
  },
  {
   "cell_type": "code",
   "execution_count": 49,
   "id": "8994b7d9-64f6-49b8-9a82-632259850822",
   "metadata": {},
   "outputs": [],
   "source": [
    "def get_price_from_cashflow_r(cashflows, r, tgr) :\n",
    "    price = 0.\n",
    "    for i, cf in enumerate(cashflows) :\n",
    "        price += cf/((1+r)**(1+i))\n",
    "    price += cashflows[-1] * (1+tgr)/(((1+r)**(1+i)) * (r - tgr))\n",
    "    return price"
   ]
  },
  {
   "cell_type": "code",
   "execution_count": 50,
   "id": "a995444f-fd6c-4fe5-82d6-72b5cc6d9c6b",
   "metadata": {},
   "outputs": [],
   "source": [
    "def get_expected_return_on_equity(curr_price, expected_cashflow, tgr) : \n",
    "    min_r = tgr\n",
    "    max_r = 1.\n",
    "    _r = (min_r + max_r)/2\n",
    "    delta = price - get_price_from_cashflow_r(expected_cashflow, _r, tgr)\n",
    "    while abs(delta) > 1 :\n",
    "        if delta < 0 :\n",
    "            min_r = _r\n",
    "        else :\n",
    "            max_r = _r\n",
    "        _r = (min_r + max_r)/2\n",
    "        delta = price - get_price_from_cashflow_r(expected_cashflow, _r, tgr)\n",
    "    return _r\n"
   ]
  },
  {
   "cell_type": "code",
   "execution_count": 51,
   "id": "85c2e730-bf4c-43e7-a63f-ed58cc443752",
   "metadata": {},
   "outputs": [
    {
     "data": {
      "text/plain": [
       "0.06657642211914061"
      ]
     },
     "execution_count": 51,
     "metadata": {},
     "output_type": "execute_result"
    }
   ],
   "source": [
    "get_expected_return_on_equity(price, expected_cashflow, tgr)"
   ]
  },
  {
   "cell_type": "code",
   "execution_count": null,
   "id": "d2bb694b-aa57-422f-a0f5-70e892a1da41",
   "metadata": {},
   "outputs": [],
   "source": []
  }
 ],
 "metadata": {
  "kernelspec": {
   "display_name": "Python 3 (ipykernel)",
   "language": "python",
   "name": "python3"
  },
  "language_info": {
   "codemirror_mode": {
    "name": "ipython",
    "version": 3
   },
   "file_extension": ".py",
   "mimetype": "text/x-python",
   "name": "python",
   "nbconvert_exporter": "python",
   "pygments_lexer": "ipython3",
   "version": "3.9.12"
  }
 },
 "nbformat": 4,
 "nbformat_minor": 5
}
