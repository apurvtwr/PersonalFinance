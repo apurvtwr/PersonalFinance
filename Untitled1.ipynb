{
 "cells": [
  {
   "cell_type": "code",
   "execution_count": 1,
   "id": "62a17d17-cf10-457c-b504-4751d897bbf6",
   "metadata": {},
   "outputs": [],
   "source": [
    "import timeit\n",
    "from random import random"
   ]
  },
  {
   "cell_type": "code",
   "execution_count": 2,
   "id": "64883e28-d71d-491b-b8bf-098b9a8b4f58",
   "metadata": {},
   "outputs": [],
   "source": [
    "def conditional_1(var: int)-> int :\n",
    "    if var :\n",
    "        return 1\n",
    "    else :\n",
    "        return 2"
   ]
  },
  {
   "cell_type": "code",
   "execution_count": 3,
   "id": "93e7a28c-e0f4-4b18-91ad-af30888b7382",
   "metadata": {},
   "outputs": [],
   "source": [
    "def conditional_2(var: int)-> int :\n",
    "    return var * 1 + (1- var) * 2"
   ]
  },
  {
   "cell_type": "code",
   "execution_count": 4,
   "id": "71c023ae-ad57-4b17-9c28-0218d98c1f90",
   "metadata": {},
   "outputs": [],
   "source": [
    "xs = [ int(random() > 0.5) for _ in range(1000) ]"
   ]
  },
  {
   "cell_type": "code",
   "execution_count": 5,
   "id": "8d37b1ac-07b6-4d7d-a1f7-96e6e2c708ed",
   "metadata": {},
   "outputs": [],
   "source": [
    "def f1() :\n",
    "    return sum(conditional_1(x) for x in xs)"
   ]
  },
  {
   "cell_type": "code",
   "execution_count": 6,
   "id": "0e5ed598-3bb5-4bcd-8771-8934f9761ec5",
   "metadata": {},
   "outputs": [],
   "source": [
    "def f2() :\n",
    "    return sum(conditional_2(x) for x in xs)"
   ]
  },
  {
   "cell_type": "code",
   "execution_count": 7,
   "id": "544bf559-ff82-46db-b8d3-7d465a28a8f1",
   "metadata": {},
   "outputs": [
    {
     "data": {
      "text/plain": [
       "1.3411184669999994"
      ]
     },
     "execution_count": 7,
     "metadata": {},
     "output_type": "execute_result"
    }
   ],
   "source": [
    "timeit.timeit(f1, number=10000)"
   ]
  },
  {
   "cell_type": "code",
   "execution_count": 8,
   "id": "ff3747b9-c88c-4a53-9d59-7fee2397e482",
   "metadata": {},
   "outputs": [
    {
     "data": {
      "text/plain": [
       "2.017097627"
      ]
     },
     "execution_count": 8,
     "metadata": {},
     "output_type": "execute_result"
    }
   ],
   "source": [
    "timeit.timeit(f2, number=10000)"
   ]
  },
  {
   "cell_type": "code",
   "execution_count": 10,
   "id": "fd2cea11-336c-4b90-9a9f-229d44381bbd",
   "metadata": {},
   "outputs": [
    {
     "data": {
      "text/plain": [
       "(1493, 1493)"
      ]
     },
     "execution_count": 10,
     "metadata": {},
     "output_type": "execute_result"
    }
   ],
   "source": [
    "f2(), f1()"
   ]
  },
  {
   "cell_type": "code",
   "execution_count": 11,
   "id": "15970e70-cdfa-4e9b-88fb-b8cd98525fbb",
   "metadata": {},
   "outputs": [
    {
     "data": {
      "text/plain": [
       "2.0008480659999996"
      ]
     },
     "execution_count": 11,
     "metadata": {},
     "output_type": "execute_result"
    }
   ],
   "source": [
    "timeit.timeit(lambda: sum(conditional_2(x) for x in xs), number=10000)"
   ]
  },
  {
   "cell_type": "code",
   "execution_count": 12,
   "id": "710cb012-003a-42c5-ba22-4139096da415",
   "metadata": {},
   "outputs": [],
   "source": [
    "import dis"
   ]
  },
  {
   "cell_type": "code",
   "execution_count": 13,
   "id": "02bc0b8e-904d-4d6c-a97e-f47d325edde9",
   "metadata": {},
   "outputs": [
    {
     "name": "stdout",
     "output_type": "stream",
     "text": [
      "  2           0 LOAD_FAST                0 (var)\n",
      "              2 POP_JUMP_IF_FALSE        8\n",
      "\n",
      "  3           4 LOAD_CONST               1 (1)\n",
      "              6 RETURN_VALUE\n",
      "\n",
      "  5     >>    8 LOAD_CONST               2 (2)\n",
      "             10 RETURN_VALUE\n",
      "             12 LOAD_CONST               0 (None)\n",
      "             14 RETURN_VALUE\n"
     ]
    }
   ],
   "source": [
    "dis.dis(conditional_1)"
   ]
  },
  {
   "cell_type": "code",
   "execution_count": 14,
   "id": "0d160e42-54d5-4a73-b161-f34757f15dc9",
   "metadata": {},
   "outputs": [
    {
     "name": "stdout",
     "output_type": "stream",
     "text": [
      "  2           0 LOAD_FAST                0 (var)\n",
      "              2 LOAD_CONST               1 (1)\n",
      "              4 BINARY_MULTIPLY\n",
      "              6 LOAD_CONST               1 (1)\n",
      "              8 LOAD_FAST                0 (var)\n",
      "             10 BINARY_SUBTRACT\n",
      "             12 LOAD_CONST               2 (2)\n",
      "             14 BINARY_MULTIPLY\n",
      "             16 BINARY_ADD\n",
      "             18 RETURN_VALUE\n"
     ]
    }
   ],
   "source": [
    "dis.dis(conditional_2)"
   ]
  },
  {
   "cell_type": "code",
   "execution_count": null,
   "id": "67047a7b-f55c-4b2b-bc6c-dd80da32fc14",
   "metadata": {},
   "outputs": [],
   "source": []
  }
 ],
 "metadata": {
  "kernelspec": {
   "display_name": "Python 3",
   "language": "python",
   "name": "python3"
  },
  "language_info": {
   "codemirror_mode": {
    "name": "ipython",
    "version": 3
   },
   "file_extension": ".py",
   "mimetype": "text/x-python",
   "name": "python",
   "nbconvert_exporter": "python",
   "pygments_lexer": "ipython3",
   "version": "3.7.6"
  }
 },
 "nbformat": 4,
 "nbformat_minor": 5
}
